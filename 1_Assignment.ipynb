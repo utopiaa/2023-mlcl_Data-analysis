{
 "cells": [
  {
   "attachments": {},
   "cell_type": "markdown",
   "metadata": {},
   "source": [
    "# Assginment\n",
    "\n",
    "## 1. `k-gas` Dataset\n",
    "\n",
    "### 1. Make the *data load function* with numpy array for `Gas sales` and `temperature`"
   ]
  },
  {
   "attachments": {},
   "cell_type": "markdown",
   "metadata": {},
   "source": [
    "- import *module*"
   ]
  },
  {
   "cell_type": "code",
   "execution_count": 3,
   "metadata": {},
   "outputs": [],
   "source": [
    "import pandas as pd\n",
    "import os"
   ]
  },
  {
   "attachments": {},
   "cell_type": "markdown",
   "metadata": {},
   "source": [
    "- set the *data directory*"
   ]
  },
  {
   "cell_type": "code",
   "execution_count": 22,
   "metadata": {},
   "outputs": [
    {
     "name": "stdout",
     "output_type": "stream",
     "text": [
      "../data/k-gas\n",
      "../data/k-gas/Gas sales with temperature.csv\n"
     ]
    }
   ],
   "source": [
    "data_dir = '../data/'\n",
    "k_gas_dir = os.path.join(data_dir, 'k-gas') # k-gas data directory\n",
    "print(k_gas_dir)\n",
    "k_gas_csv = os.path.join(k_gas_dir, 'Gas sales with temperature.csv')\n",
    "print(k_gas_csv)"
   ]
  },
  {
   "attachments": {},
   "cell_type": "markdown",
   "metadata": {},
   "source": [
    "#### 1. Load the csv file\n",
    "- use `pd.read_csv()` function\n",
    "\n",
    "#### 2. Drop the columns\n",
    "- use `drop()` function\n",
    "\n",
    "#### 4. Convert to numpy array\n",
    "- use `to_numpy()` function"
   ]
  },
  {
   "cell_type": "code",
   "execution_count": null,
   "metadata": {},
   "outputs": [],
   "source": [
    "# 1. Load the csv file\n",
    "k_gas_file = pd.read_csv(k_gas_csv)\n",
    "\n",
    "print(k_gas_file)\n",
    "print(type(k_gas_file))\n",
    "\n",
    "# 2. Drop the columns/ tem\n",
    "k_gas_drop = k_gas_file.drop(columns=[\"Year\", \"Month\", \"Temperature\"])\n",
    "k_gas_tm = k_gas_file[\"Temperature\"]\n",
    "print(k_gas_tm)\n",
    "# print(k_gas_drop)\n",
    "\n",
    "# 3. maybe... plot?\n",
    "\n",
    "# 4. Convert to numpy array\n",
    "\n",
    "k_gas_data_df = k_gas_drop.to_numpy()\n",
    "print(k_gas_data_df)\n",
    "\n"
   ]
  },
  {
   "cell_type": "code",
   "execution_count": 31,
   "metadata": {},
   "outputs": [],
   "source": [
    "def data_load_with_numpy_array(csv):\n",
    "    '''\n",
    "    input your code in below\n",
    "    '''\n",
    "    # ## 1. Load the csv file\n",
    "    # k_gas = # input your code\n",
    "    \n",
    "    data_dir = '../data/'\n",
    "    k_gas_dir = os.path.join(data_dir, 'k-gas') # k-gas data directory\n",
    "    k_gas_csv = os.path.join(k_gas_dir, csv)\n",
    "    k_gas = pd.read_csv(k_gas_csv)\n",
    "    # #########\n",
    "    \n",
    "    # ## 2. Drop the columns('Year', 'Month', 'Sum')\n",
    "    # k_gas_df = # input your code\n",
    "    # k_gas_df = k_gas.drop(['Year', 'Month', 'Sum'], axis= 1)\n",
    "    # #########\n",
    "    \n",
    "    # ## 3. Split the dataframe into two parts with the columns('Temperature') and the other columns\n",
    "    # k_gas_temp_df = # input your code\n",
    "    # k_gas_data_df = # input your code\n",
    "    k_gas_temp_df = k_gas['Temperature'] \n",
    "    k_gas_data_df = k_gas.drop(['Year', 'Temperature', 'Month', 'Sum', 'Year','Month'], axis=1) # Drop columns\n",
    "    # #########\n",
    "    \n",
    "    # ## 4. Convert the dataframe to numpy array\n",
    "    # k_gas_temp = # input your code\n",
    "    # k_gas_data = # input your code\n",
    "    k_gas_temp = k_gas_temp_df.to_numpy()\n",
    "    k_gas_data = k_gas_data_df.to_numpy()\n",
    "    # to_numpy와 to_numpy()와는 다르다\n",
    "    # #########\n",
    "    \n",
    "    label = k_gas_temp\n",
    "    data = k_gas_data\n",
    "    \n",
    "    return data, label"
   ]
  },
  {
   "cell_type": "code",
   "execution_count": 32,
   "metadata": {},
   "outputs": [],
   "source": [
    "k_gas_csv = 'Gas sales with temperature.csv'\n",
    "\n",
    "data, label = data_load_with_numpy_array(csv=k_gas_csv)"
   ]
  },
  {
   "attachments": {},
   "cell_type": "markdown",
   "metadata": {},
   "source": [
    "##### Check the data with `numpy` array\n",
    "\n",
    "- `data type:  <class 'numpy.ndarray'>` \n",
    "- `label type:  <class 'numpy.ndarray'>`"
   ]
  },
  {
   "cell_type": "code",
   "execution_count": 33,
   "metadata": {},
   "outputs": [
    {
     "name": "stdout",
     "output_type": "stream",
     "text": [
      "data type:  <class 'numpy.ndarray'>\n",
      "label type:  <class 'numpy.ndarray'>\n"
     ]
    }
   ],
   "source": [
    "print('data type: ', type(data))\n",
    "print('label type: ', type(label))"
   ]
  },
  {
   "attachments": {},
   "cell_type": "markdown",
   "metadata": {},
   "source": [
    "- `data shape:  (252, 17)`\n",
    "- `label shape:  (252,)`"
   ]
  },
  {
   "cell_type": "code",
   "execution_count": 34,
   "metadata": {},
   "outputs": [
    {
     "name": "stdout",
     "output_type": "stream",
     "text": [
      "data shape:  (252, 17)\n",
      "label shape:  (252,)\n"
     ]
    }
   ],
   "source": [
    "print('data shape: ', data.shape)\n",
    "print('label shape: ', label.shape)"
   ]
  },
  {
   "cell_type": "code",
   "execution_count": 35,
   "metadata": {},
   "outputs": [
    {
     "name": "stdout",
     "output_type": "stream",
     "text": [
      "------------------\n",
      "label:  -1.2\n",
      "data :  [ 16219 662424 363014 139454  42129  55362  39465  86077  52992  85787\n",
      "      0  69241  22508  34507      0  20158  27838]\n",
      "------------------\n",
      "label:  -0.99\n",
      "data :  [ 16280 689177 375937 145834  42604  52863  40674  84069  53950  87282\n",
      "      0  70910  22310  33784      0  23492  27175]\n",
      "------------------\n",
      "label:  6.64\n",
      "data :  [ 14105 566528 323145 121324  35990  47282  34610  76144  41898  74476\n",
      "      0  63627  18033  29315      0  21156  22904]\n",
      "------------------\n",
      "label:  12.11\n",
      "data :  [ 10364 396231 237437  91421  28698  40393  25898  62514  28618  58316\n",
      "      0  47106  15920  19783      0  17447  16818]\n",
      "------------------\n",
      "label:  17.59\n",
      "data :  [  6843 262940 169495  67239  21073  35083  18426  46992  17503  45915\n",
      "      0  43749  13808  14375      0  14508  12299]\n"
     ]
    }
   ],
   "source": [
    "for l, d in zip(label[:5], data[:5]):\n",
    "    print('------------------')\n",
    "    print('label: ', l)\n",
    "    print('data : ', d)"
   ]
  },
  {
   "attachments": {},
   "cell_type": "markdown",
   "metadata": {},
   "source": [
    "### 2. `Split` the data into train and test set "
   ]
  },
  {
   "cell_type": "code",
   "execution_count": 36,
   "metadata": {},
   "outputs": [],
   "source": [
    "from sklearn.model_selection import train_test_split"
   ]
  },
  {
   "cell_type": "code",
   "execution_count": 40,
   "metadata": {},
   "outputs": [
    {
     "name": "stdout",
     "output_type": "stream",
     "text": [
      "201\n",
      "51\n",
      "201\n",
      "51\n"
     ]
    }
   ],
   "source": [
    "### Split the data and label into train and test set\n",
    "\n",
    "#### input your code in below\n",
    "train_data, test_data = train_test_split(data, test_size=0.2)\n",
    "train_label, test_label = train_test_split(label, test_size=0.2)\n",
    "# shuffle?????\n",
    "# X_train, X_test, y_train, y_test = # input your code\n",
    "#########\n",
    "\n",
    "print(len(train_data))\n",
    "print(len(test_data))\n",
    "print(len(train_label))\n",
    "print(len(test_label))"
   ]
  },
  {
   "attachments": {},
   "cell_type": "markdown",
   "metadata": {},
   "source": [
    "##### Check the train, test data shape"
   ]
  },
  {
   "cell_type": "code",
   "execution_count": 41,
   "metadata": {},
   "outputs": [
    {
     "name": "stdout",
     "output_type": "stream",
     "text": [
      "X_train shape:  (201, 17)\n",
      "X_test shape:  (51, 17)\n"
     ]
    }
   ],
   "source": [
    "print('X_train shape: ', train_data.shape)\n",
    "print('X_test shape: ', test_data.shape)"
   ]
  },
  {
   "attachments": {},
   "cell_type": "markdown",
   "metadata": {},
   "source": [
    "## 2. `Headgear` Dataset\n",
    "\n"
   ]
  },
  {
   "attachments": {},
   "cell_type": "markdown",
   "metadata": {},
   "source": [
    "- import *module*"
   ]
  },
  {
   "cell_type": "code",
   "execution_count": 44,
   "metadata": {},
   "outputs": [],
   "source": [
    "import os\n",
    "import pandas as pd\n",
    "\n",
    "import numpy as np\n",
    "\n",
    "import matplotlib.pyplot as plt\n",
    "import cv2"
   ]
  },
  {
   "attachments": {},
   "cell_type": "markdown",
   "metadata": {},
   "source": [
    "- set the *data directory*"
   ]
  },
  {
   "cell_type": "code",
   "execution_count": 47,
   "metadata": {},
   "outputs": [
    {
     "name": "stdout",
     "output_type": "stream",
     "text": [
      "../data/headgear/heasdgear.csv\n"
     ]
    }
   ],
   "source": [
    "data_dir = '../data'\n",
    "headgear_dir = os.path.join(data_dir, 'headgear')\n",
    "headgear_csv = os.path.join(headgear_dir, 'heasdgear.csv')\n",
    "\n",
    "print(headgear_csv)"
   ]
  },
  {
   "attachments": {},
   "cell_type": "markdown",
   "metadata": {},
   "source": [
    "### 1. load the data from the csv file\n",
    "    - use `pd.read_csv()` function"
   ]
  },
  {
   "cell_type": "code",
   "execution_count": 51,
   "metadata": {},
   "outputs": [
    {
     "name": "stdout",
     "output_type": "stream",
     "text": [
      "   class id                filepaths     labels data set\n",
      "0         0  train/ASCOT CAP/001.jpg  ASCOT CAP    train\n",
      "1         0  train/ASCOT CAP/002.jpg  ASCOT CAP    train\n",
      "2         0  train/ASCOT CAP/003.jpg  ASCOT CAP    train\n",
      "3         0  train/ASCOT CAP/004.jpg  ASCOT CAP    train\n",
      "4         0  train/ASCOT CAP/005.jpg  ASCOT CAP    train\n",
      "Index(['class id', 'filepaths', 'labels', 'data set'], dtype='object')\n",
      "   class id                filepaths     labels data set\n",
      "0         0  train/ASCOT CAP/001.jpg  ASCOT CAP    train\n",
      "1         0  train/ASCOT CAP/002.jpg  ASCOT CAP    train\n",
      "2         0  train/ASCOT CAP/003.jpg  ASCOT CAP    train\n",
      "3         0  train/ASCOT CAP/004.jpg  ASCOT CAP    train\n"
     ]
    }
   ],
   "source": [
    "#### input your code in below\n",
    "# headgear_df = # input your code\n",
    "headgear_df = pd.read_csv(headgear_csv)\n",
    "#########\n",
    "print(headgear_df.head())\n",
    "print(headgear_df.columns)\n",
    "print(headgear_df.loc[:3])"
   ]
  },
  {
   "attachments": {},
   "cell_type": "markdown",
   "metadata": {},
   "source": [
    "### 2. check the data count\n",
    "    - use `value_counts()` function"
   ]
  },
  {
   "cell_type": "code",
   "execution_count": null,
   "metadata": {},
   "outputs": [],
   "source": [
    "#### input your code in below\n",
    "# # input your code\n",
    "##########\n",
    "\n",
    "# 이게 뭐죠?... .ㄷㄷ"
   ]
  },
  {
   "attachments": {},
   "cell_type": "markdown",
   "metadata": {},
   "source": [
    "### 3. Split the data into train, valid, test set\n",
    "- It need to filter the data with `data set` column"
   ]
  },
  {
   "cell_type": "code",
   "execution_count": 52,
   "metadata": {},
   "outputs": [
    {
     "name": "stdout",
     "output_type": "stream",
     "text": [
      "3056\n",
      "382\n",
      "382\n"
     ]
    }
   ],
   "source": [
    "#### input your code in below\n",
    "# train_data_df = # input your code\n",
    "# valid_data_df = # input your code\n",
    "# test_data_df = # input your code\n",
    "train_data_df, test_data_df = train_test_split(headgear_df, test_size=0.2)\n",
    "val_data_df, test_data_df = train_test_split(test_data_df, test_size=0.5)\n",
    "\n",
    "print(len(train_data_df))\n",
    "print(len(val_data_df))\n",
    "print(len(test_data_df))\n",
    "##########"
   ]
  },
  {
   "attachments": {},
   "cell_type": "markdown",
   "metadata": {},
   "source": [
    "### 4. Make the `image_to_tensor` function\n",
    "\n",
    "- use `cv2.imread()` function"
   ]
  },
  {
   "cell_type": "code",
   "execution_count": null,
   "metadata": {},
   "outputs": [],
   "source": [
    "headgear_dir = os.path.join(data_dir, 'headgear')\n",
    "\n",
    "#### input your code in below\n",
    "def image_to_tensor(data_df):\n",
    "    data = []\n",
    "    labels = []\n",
    "\n",
    "    for index, row in data_df.iterrows():\n",
    "        image_path = os.path.join(headgear_csv, row[1])\n",
    "        image = image_path()\n",
    "        data.append(# input your code)\n",
    "        labels.append(# )\n",
    "\n",
    "    return np.array(data), np.array(labels)"
   ]
  },
  {
   "cell_type": "code",
   "execution_count": null,
   "metadata": {},
   "outputs": [],
   "source": [
    "train_data, train_labels = image_to_tensor(train_data_df)\n",
    "valid_data, valid_labels = image_to_tensor(val_data_df)\n",
    "test_data, test_labels = image_to_tensor(test_data_df)"
   ]
  },
  {
   "attachments": {},
   "cell_type": "markdown",
   "metadata": {},
   "source": [
    "- Check the image shape"
   ]
  },
  {
   "cell_type": "code",
   "execution_count": null,
   "metadata": {},
   "outputs": [],
   "source": [
    "print('Train Data: ', len(train_data))\n",
    "print('Train Labels: ', len(train_labels))\n",
    "print('Train Data Shape: ', train_data[0].shape)"
   ]
  },
  {
   "cell_type": "code",
   "execution_count": null,
   "metadata": {},
   "outputs": [],
   "source": [
    "print('Valid Data: ', len(valid_data))\n",
    "print('Valid Labels: ', len(valid_labels))\n",
    "print('Valid Data Shape: ', valid_data[0].shape)"
   ]
  },
  {
   "cell_type": "code",
   "execution_count": null,
   "metadata": {},
   "outputs": [],
   "source": [
    "print('Test Data: ', len(test_data))\n",
    "print('Test Labels: ', len(test_labels))\n",
    "print('Test Data Shape: ', test_data[0].shape)"
   ]
  }
 ],
 "metadata": {
  "kernelspec": {
   "display_name": "mlcl",
   "language": "python",
   "name": "python3"
  },
  "language_info": {
   "codemirror_mode": {
    "name": "ipython",
    "version": 3
   },
   "file_extension": ".py",
   "mimetype": "text/x-python",
   "name": "python",
   "nbconvert_exporter": "python",
   "pygments_lexer": "ipython3",
   "version": "3.8.16"
  },
  "orig_nbformat": 4
 },
 "nbformat": 4,
 "nbformat_minor": 2
}
